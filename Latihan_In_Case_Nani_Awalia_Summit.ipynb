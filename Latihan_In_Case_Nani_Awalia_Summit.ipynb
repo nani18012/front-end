{
  "nbformat": 4,
  "nbformat_minor": 0,
  "metadata": {
    "colab": {
      "name": "Latihan In Case_Nani Awalia_Summit.ipynb",
      "provenance": [],
      "collapsed_sections": [],
      "mount_file_id": "1Qjx7u99vCcbgP4VUOdezX0xqYz65VxAe",
      "authorship_tag": "ABX9TyPFiiyhfpDxWPe3mxZO3AY9",
      "include_colab_link": true
    },
    "kernelspec": {
      "name": "python3",
      "display_name": "Python 3"
    },
    "language_info": {
      "name": "python"
    }
  },
  "cells": [
    {
      "cell_type": "markdown",
      "metadata": {
        "id": "view-in-github",
        "colab_type": "text"
      },
      "source": [
        "<a href=\"https://colab.research.google.com/github/nani18012/front-end/blob/main/Latihan_In_Case_Nani_Awalia_Summit.ipynb\" target=\"_parent\"><img src=\"https://colab.research.google.com/assets/colab-badge.svg\" alt=\"Open In Colab\"/></a>"
      ]
    },
    {
      "cell_type": "markdown",
      "metadata": {
        "id": "wF-lNRKwc1YO"
      },
      "source": [
        "### **Nama : Nani Awalia**\n",
        "**Kelas : Summit**\n",
        "\n",
        "**Universitas Singaperbangsa Karawang**"
      ]
    },
    {
      "cell_type": "code",
      "metadata": {
        "id": "B2cHO30KYQVA"
      },
      "source": [
        "import pandas as pd\n",
        "import numpy as np\n",
        "import matplotlib.pyplot as plt\n",
        "import itertools\n",
        "import matplotlib.ticker as ticker\n",
        "from matplotlib.ticker import NullFormatter\n",
        "from sklearn import preprocessing\n",
        "%matplotlib inline"
      ],
      "execution_count": 95,
      "outputs": []
    },
    {
      "cell_type": "markdown",
      "metadata": {
        "id": "i6132C8LcxAP"
      },
      "source": [
        "# **Load Data Set**"
      ]
    },
    {
      "cell_type": "code",
      "metadata": {
        "colab": {
          "base_uri": "https://localhost:8080/",
          "height": 313
        },
        "id": "h561PoW4ZZzL",
        "outputId": "c6ae61cf-2ab7-418a-b99a-3e3dfa0ce329"
      },
      "source": [
        "#Load data penjualan\n",
        "df = pd.read_csv('/content/austin_weather.csv')\n",
        "df = df.drop('Events',1)\n",
        "df.head()"
      ],
      "execution_count": 96,
      "outputs": [
        {
          "output_type": "execute_result",
          "data": {
            "text/html": [
              "<div>\n",
              "<style scoped>\n",
              "    .dataframe tbody tr th:only-of-type {\n",
              "        vertical-align: middle;\n",
              "    }\n",
              "\n",
              "    .dataframe tbody tr th {\n",
              "        vertical-align: top;\n",
              "    }\n",
              "\n",
              "    .dataframe thead th {\n",
              "        text-align: right;\n",
              "    }\n",
              "</style>\n",
              "<table border=\"1\" class=\"dataframe\">\n",
              "  <thead>\n",
              "    <tr style=\"text-align: right;\">\n",
              "      <th></th>\n",
              "      <th>Date</th>\n",
              "      <th>TempHighF</th>\n",
              "      <th>TempAvgF</th>\n",
              "      <th>TempLowF</th>\n",
              "      <th>DewPointHighF</th>\n",
              "      <th>DewPointAvgF</th>\n",
              "      <th>DewPointLowF</th>\n",
              "      <th>HumidityHighPercent</th>\n",
              "      <th>HumidityAvgPercent</th>\n",
              "      <th>HumidityLowPercent</th>\n",
              "      <th>SeaLevelPressureHighInches</th>\n",
              "      <th>SeaLevelPressureAvgInches</th>\n",
              "      <th>SeaLevelPressureLowInches</th>\n",
              "      <th>VisibilityHighMiles</th>\n",
              "      <th>VisibilityAvgMiles</th>\n",
              "      <th>VisibilityLowMiles</th>\n",
              "      <th>WindHighMPH</th>\n",
              "      <th>WindAvgMPH</th>\n",
              "      <th>WindGustMPH</th>\n",
              "      <th>PrecipitationSumInches</th>\n",
              "    </tr>\n",
              "  </thead>\n",
              "  <tbody>\n",
              "    <tr>\n",
              "      <th>0</th>\n",
              "      <td>2013-12-21</td>\n",
              "      <td>74</td>\n",
              "      <td>60</td>\n",
              "      <td>45</td>\n",
              "      <td>67</td>\n",
              "      <td>49</td>\n",
              "      <td>43</td>\n",
              "      <td>93</td>\n",
              "      <td>75</td>\n",
              "      <td>57</td>\n",
              "      <td>29.86</td>\n",
              "      <td>29.68</td>\n",
              "      <td>29.59</td>\n",
              "      <td>10</td>\n",
              "      <td>7</td>\n",
              "      <td>2</td>\n",
              "      <td>20</td>\n",
              "      <td>4</td>\n",
              "      <td>31</td>\n",
              "      <td>0.46</td>\n",
              "    </tr>\n",
              "    <tr>\n",
              "      <th>1</th>\n",
              "      <td>2013-12-22</td>\n",
              "      <td>56</td>\n",
              "      <td>48</td>\n",
              "      <td>39</td>\n",
              "      <td>43</td>\n",
              "      <td>36</td>\n",
              "      <td>28</td>\n",
              "      <td>93</td>\n",
              "      <td>68</td>\n",
              "      <td>43</td>\n",
              "      <td>30.41</td>\n",
              "      <td>30.13</td>\n",
              "      <td>29.87</td>\n",
              "      <td>10</td>\n",
              "      <td>10</td>\n",
              "      <td>5</td>\n",
              "      <td>16</td>\n",
              "      <td>6</td>\n",
              "      <td>25</td>\n",
              "      <td>0</td>\n",
              "    </tr>\n",
              "    <tr>\n",
              "      <th>2</th>\n",
              "      <td>2013-12-23</td>\n",
              "      <td>58</td>\n",
              "      <td>45</td>\n",
              "      <td>32</td>\n",
              "      <td>31</td>\n",
              "      <td>27</td>\n",
              "      <td>23</td>\n",
              "      <td>76</td>\n",
              "      <td>52</td>\n",
              "      <td>27</td>\n",
              "      <td>30.56</td>\n",
              "      <td>30.49</td>\n",
              "      <td>30.41</td>\n",
              "      <td>10</td>\n",
              "      <td>10</td>\n",
              "      <td>10</td>\n",
              "      <td>8</td>\n",
              "      <td>3</td>\n",
              "      <td>12</td>\n",
              "      <td>0</td>\n",
              "    </tr>\n",
              "    <tr>\n",
              "      <th>3</th>\n",
              "      <td>2013-12-24</td>\n",
              "      <td>61</td>\n",
              "      <td>46</td>\n",
              "      <td>31</td>\n",
              "      <td>36</td>\n",
              "      <td>28</td>\n",
              "      <td>21</td>\n",
              "      <td>89</td>\n",
              "      <td>56</td>\n",
              "      <td>22</td>\n",
              "      <td>30.56</td>\n",
              "      <td>30.45</td>\n",
              "      <td>30.3</td>\n",
              "      <td>10</td>\n",
              "      <td>10</td>\n",
              "      <td>7</td>\n",
              "      <td>12</td>\n",
              "      <td>4</td>\n",
              "      <td>20</td>\n",
              "      <td>0</td>\n",
              "    </tr>\n",
              "    <tr>\n",
              "      <th>4</th>\n",
              "      <td>2013-12-25</td>\n",
              "      <td>58</td>\n",
              "      <td>50</td>\n",
              "      <td>41</td>\n",
              "      <td>44</td>\n",
              "      <td>40</td>\n",
              "      <td>36</td>\n",
              "      <td>86</td>\n",
              "      <td>71</td>\n",
              "      <td>56</td>\n",
              "      <td>30.41</td>\n",
              "      <td>30.33</td>\n",
              "      <td>30.27</td>\n",
              "      <td>10</td>\n",
              "      <td>10</td>\n",
              "      <td>7</td>\n",
              "      <td>10</td>\n",
              "      <td>2</td>\n",
              "      <td>16</td>\n",
              "      <td>T</td>\n",
              "    </tr>\n",
              "  </tbody>\n",
              "</table>\n",
              "</div>"
            ],
            "text/plain": [
              "         Date  TempHighF  ...  WindGustMPH  PrecipitationSumInches\n",
              "0  2013-12-21         74  ...           31                    0.46\n",
              "1  2013-12-22         56  ...           25                       0\n",
              "2  2013-12-23         58  ...           12                       0\n",
              "3  2013-12-24         61  ...           20                       0\n",
              "4  2013-12-25         58  ...           16                       T\n",
              "\n",
              "[5 rows x 20 columns]"
            ]
          },
          "metadata": {},
          "execution_count": 96
        }
      ]
    },
    {
      "cell_type": "markdown",
      "metadata": {
        "id": "u3g2yZPx8kAK"
      },
      "source": [
        "# **Membersihkan Data**"
      ]
    },
    {
      "cell_type": "code",
      "metadata": {
        "colab": {
          "base_uri": "https://localhost:8080/",
          "height": 313
        },
        "id": "r4-oSa9VcECp",
        "outputId": "30628038-2851-4014-ef03-9d56a0853328"
      },
      "source": [
        "df['PrecipitationSumInches'] = df['PrecipitationSumInches'].apply(lambda x: x if x == 'T' else 'F')\n",
        "df.head()"
      ],
      "execution_count": 97,
      "outputs": [
        {
          "output_type": "execute_result",
          "data": {
            "text/html": [
              "<div>\n",
              "<style scoped>\n",
              "    .dataframe tbody tr th:only-of-type {\n",
              "        vertical-align: middle;\n",
              "    }\n",
              "\n",
              "    .dataframe tbody tr th {\n",
              "        vertical-align: top;\n",
              "    }\n",
              "\n",
              "    .dataframe thead th {\n",
              "        text-align: right;\n",
              "    }\n",
              "</style>\n",
              "<table border=\"1\" class=\"dataframe\">\n",
              "  <thead>\n",
              "    <tr style=\"text-align: right;\">\n",
              "      <th></th>\n",
              "      <th>Date</th>\n",
              "      <th>TempHighF</th>\n",
              "      <th>TempAvgF</th>\n",
              "      <th>TempLowF</th>\n",
              "      <th>DewPointHighF</th>\n",
              "      <th>DewPointAvgF</th>\n",
              "      <th>DewPointLowF</th>\n",
              "      <th>HumidityHighPercent</th>\n",
              "      <th>HumidityAvgPercent</th>\n",
              "      <th>HumidityLowPercent</th>\n",
              "      <th>SeaLevelPressureHighInches</th>\n",
              "      <th>SeaLevelPressureAvgInches</th>\n",
              "      <th>SeaLevelPressureLowInches</th>\n",
              "      <th>VisibilityHighMiles</th>\n",
              "      <th>VisibilityAvgMiles</th>\n",
              "      <th>VisibilityLowMiles</th>\n",
              "      <th>WindHighMPH</th>\n",
              "      <th>WindAvgMPH</th>\n",
              "      <th>WindGustMPH</th>\n",
              "      <th>PrecipitationSumInches</th>\n",
              "    </tr>\n",
              "  </thead>\n",
              "  <tbody>\n",
              "    <tr>\n",
              "      <th>0</th>\n",
              "      <td>2013-12-21</td>\n",
              "      <td>74</td>\n",
              "      <td>60</td>\n",
              "      <td>45</td>\n",
              "      <td>67</td>\n",
              "      <td>49</td>\n",
              "      <td>43</td>\n",
              "      <td>93</td>\n",
              "      <td>75</td>\n",
              "      <td>57</td>\n",
              "      <td>29.86</td>\n",
              "      <td>29.68</td>\n",
              "      <td>29.59</td>\n",
              "      <td>10</td>\n",
              "      <td>7</td>\n",
              "      <td>2</td>\n",
              "      <td>20</td>\n",
              "      <td>4</td>\n",
              "      <td>31</td>\n",
              "      <td>F</td>\n",
              "    </tr>\n",
              "    <tr>\n",
              "      <th>1</th>\n",
              "      <td>2013-12-22</td>\n",
              "      <td>56</td>\n",
              "      <td>48</td>\n",
              "      <td>39</td>\n",
              "      <td>43</td>\n",
              "      <td>36</td>\n",
              "      <td>28</td>\n",
              "      <td>93</td>\n",
              "      <td>68</td>\n",
              "      <td>43</td>\n",
              "      <td>30.41</td>\n",
              "      <td>30.13</td>\n",
              "      <td>29.87</td>\n",
              "      <td>10</td>\n",
              "      <td>10</td>\n",
              "      <td>5</td>\n",
              "      <td>16</td>\n",
              "      <td>6</td>\n",
              "      <td>25</td>\n",
              "      <td>F</td>\n",
              "    </tr>\n",
              "    <tr>\n",
              "      <th>2</th>\n",
              "      <td>2013-12-23</td>\n",
              "      <td>58</td>\n",
              "      <td>45</td>\n",
              "      <td>32</td>\n",
              "      <td>31</td>\n",
              "      <td>27</td>\n",
              "      <td>23</td>\n",
              "      <td>76</td>\n",
              "      <td>52</td>\n",
              "      <td>27</td>\n",
              "      <td>30.56</td>\n",
              "      <td>30.49</td>\n",
              "      <td>30.41</td>\n",
              "      <td>10</td>\n",
              "      <td>10</td>\n",
              "      <td>10</td>\n",
              "      <td>8</td>\n",
              "      <td>3</td>\n",
              "      <td>12</td>\n",
              "      <td>F</td>\n",
              "    </tr>\n",
              "    <tr>\n",
              "      <th>3</th>\n",
              "      <td>2013-12-24</td>\n",
              "      <td>61</td>\n",
              "      <td>46</td>\n",
              "      <td>31</td>\n",
              "      <td>36</td>\n",
              "      <td>28</td>\n",
              "      <td>21</td>\n",
              "      <td>89</td>\n",
              "      <td>56</td>\n",
              "      <td>22</td>\n",
              "      <td>30.56</td>\n",
              "      <td>30.45</td>\n",
              "      <td>30.3</td>\n",
              "      <td>10</td>\n",
              "      <td>10</td>\n",
              "      <td>7</td>\n",
              "      <td>12</td>\n",
              "      <td>4</td>\n",
              "      <td>20</td>\n",
              "      <td>F</td>\n",
              "    </tr>\n",
              "    <tr>\n",
              "      <th>4</th>\n",
              "      <td>2013-12-25</td>\n",
              "      <td>58</td>\n",
              "      <td>50</td>\n",
              "      <td>41</td>\n",
              "      <td>44</td>\n",
              "      <td>40</td>\n",
              "      <td>36</td>\n",
              "      <td>86</td>\n",
              "      <td>71</td>\n",
              "      <td>56</td>\n",
              "      <td>30.41</td>\n",
              "      <td>30.33</td>\n",
              "      <td>30.27</td>\n",
              "      <td>10</td>\n",
              "      <td>10</td>\n",
              "      <td>7</td>\n",
              "      <td>10</td>\n",
              "      <td>2</td>\n",
              "      <td>16</td>\n",
              "      <td>T</td>\n",
              "    </tr>\n",
              "  </tbody>\n",
              "</table>\n",
              "</div>"
            ],
            "text/plain": [
              "         Date  TempHighF  ...  WindGustMPH  PrecipitationSumInches\n",
              "0  2013-12-21         74  ...           31                       F\n",
              "1  2013-12-22         56  ...           25                       F\n",
              "2  2013-12-23         58  ...           12                       F\n",
              "3  2013-12-24         61  ...           20                       F\n",
              "4  2013-12-25         58  ...           16                       T\n",
              "\n",
              "[5 rows x 20 columns]"
            ]
          },
          "metadata": {},
          "execution_count": 97
        }
      ]
    },
    {
      "cell_type": "code",
      "metadata": {
        "colab": {
          "base_uri": "https://localhost:8080/"
        },
        "id": "n2MBBcxo0MfQ",
        "outputId": "7e3e61bd-f40a-48e0-ec6a-4fc26890760d"
      },
      "source": [
        "df.info()"
      ],
      "execution_count": 98,
      "outputs": [
        {
          "output_type": "stream",
          "name": "stdout",
          "text": [
            "<class 'pandas.core.frame.DataFrame'>\n",
            "RangeIndex: 1319 entries, 0 to 1318\n",
            "Data columns (total 20 columns):\n",
            " #   Column                      Non-Null Count  Dtype \n",
            "---  ------                      --------------  ----- \n",
            " 0   Date                        1319 non-null   object\n",
            " 1   TempHighF                   1319 non-null   int64 \n",
            " 2   TempAvgF                    1319 non-null   int64 \n",
            " 3   TempLowF                    1319 non-null   int64 \n",
            " 4   DewPointHighF               1319 non-null   object\n",
            " 5   DewPointAvgF                1319 non-null   object\n",
            " 6   DewPointLowF                1319 non-null   object\n",
            " 7   HumidityHighPercent         1319 non-null   object\n",
            " 8   HumidityAvgPercent          1319 non-null   object\n",
            " 9   HumidityLowPercent          1319 non-null   object\n",
            " 10  SeaLevelPressureHighInches  1319 non-null   object\n",
            " 11  SeaLevelPressureAvgInches   1319 non-null   object\n",
            " 12  SeaLevelPressureLowInches   1319 non-null   object\n",
            " 13  VisibilityHighMiles         1319 non-null   object\n",
            " 14  VisibilityAvgMiles          1319 non-null   object\n",
            " 15  VisibilityLowMiles          1319 non-null   object\n",
            " 16  WindHighMPH                 1319 non-null   object\n",
            " 17  WindAvgMPH                  1319 non-null   object\n",
            " 18  WindGustMPH                 1319 non-null   object\n",
            " 19  PrecipitationSumInches      1319 non-null   object\n",
            "dtypes: int64(3), object(17)\n",
            "memory usage: 206.2+ KB\n"
          ]
        }
      ]
    },
    {
      "cell_type": "markdown",
      "metadata": {
        "id": "ELeFkkbS7N3w"
      },
      "source": [
        "Dari method info ini bisa lihat kalau kolom yang bertipe data numerik hanya kolom TempHighF, TempAvgF, TempLowF, maka harus diubah ke numerik dahulu karena untuk standar scaler atau normalisai harus numerik semua, dan kolom date bisa kita ga gunakan"
      ]
    },
    {
      "cell_type": "code",
      "metadata": {
        "colab": {
          "base_uri": "https://localhost:8080/"
        },
        "id": "KgVJoIcu2wgo",
        "outputId": "1e4cb51c-5a37-413e-acae-5589b8e6b72c"
      },
      "source": [
        "np.array(df.iloc[:,4:]) == '-'"
      ],
      "execution_count": 99,
      "outputs": [
        {
          "output_type": "execute_result",
          "data": {
            "text/plain": [
              "array([[False, False, False, ..., False, False, False],\n",
              "       [False, False, False, ..., False, False, False],\n",
              "       [False, False, False, ..., False, False, False],\n",
              "       ...,\n",
              "       [False, False, False, ..., False, False, False],\n",
              "       [False, False, False, ..., False, False, False],\n",
              "       [False, False, False, ..., False, False, False]])"
            ]
          },
          "metadata": {},
          "execution_count": 99
        }
      ]
    },
    {
      "cell_type": "code",
      "metadata": {
        "colab": {
          "base_uri": "https://localhost:8080/",
          "height": 617
        },
        "id": "0-PoiFIc527t",
        "outputId": "3d276aaf-ec7b-4ee0-dc6c-2beb2f7e15b7"
      },
      "source": [
        "kolom = df.columns[4:19]\n",
        "for i in kolom:\n",
        "  df[i] = df[i].apply(lambda x: 0 if x == '-' else x)\n",
        "\n",
        "df"
      ],
      "execution_count": 101,
      "outputs": [
        {
          "output_type": "execute_result",
          "data": {
            "text/html": [
              "<div>\n",
              "<style scoped>\n",
              "    .dataframe tbody tr th:only-of-type {\n",
              "        vertical-align: middle;\n",
              "    }\n",
              "\n",
              "    .dataframe tbody tr th {\n",
              "        vertical-align: top;\n",
              "    }\n",
              "\n",
              "    .dataframe thead th {\n",
              "        text-align: right;\n",
              "    }\n",
              "</style>\n",
              "<table border=\"1\" class=\"dataframe\">\n",
              "  <thead>\n",
              "    <tr style=\"text-align: right;\">\n",
              "      <th></th>\n",
              "      <th>Date</th>\n",
              "      <th>TempHighF</th>\n",
              "      <th>TempAvgF</th>\n",
              "      <th>TempLowF</th>\n",
              "      <th>DewPointHighF</th>\n",
              "      <th>DewPointAvgF</th>\n",
              "      <th>DewPointLowF</th>\n",
              "      <th>HumidityHighPercent</th>\n",
              "      <th>HumidityAvgPercent</th>\n",
              "      <th>HumidityLowPercent</th>\n",
              "      <th>SeaLevelPressureHighInches</th>\n",
              "      <th>SeaLevelPressureAvgInches</th>\n",
              "      <th>SeaLevelPressureLowInches</th>\n",
              "      <th>VisibilityHighMiles</th>\n",
              "      <th>VisibilityAvgMiles</th>\n",
              "      <th>VisibilityLowMiles</th>\n",
              "      <th>WindHighMPH</th>\n",
              "      <th>WindAvgMPH</th>\n",
              "      <th>WindGustMPH</th>\n",
              "      <th>PrecipitationSumInches</th>\n",
              "    </tr>\n",
              "  </thead>\n",
              "  <tbody>\n",
              "    <tr>\n",
              "      <th>0</th>\n",
              "      <td>2013-12-21</td>\n",
              "      <td>74</td>\n",
              "      <td>60</td>\n",
              "      <td>45</td>\n",
              "      <td>67</td>\n",
              "      <td>49</td>\n",
              "      <td>43</td>\n",
              "      <td>93</td>\n",
              "      <td>75</td>\n",
              "      <td>57</td>\n",
              "      <td>29.86</td>\n",
              "      <td>29.68</td>\n",
              "      <td>29.59</td>\n",
              "      <td>10</td>\n",
              "      <td>7</td>\n",
              "      <td>2</td>\n",
              "      <td>20</td>\n",
              "      <td>4</td>\n",
              "      <td>31</td>\n",
              "      <td>F</td>\n",
              "    </tr>\n",
              "    <tr>\n",
              "      <th>1</th>\n",
              "      <td>2013-12-22</td>\n",
              "      <td>56</td>\n",
              "      <td>48</td>\n",
              "      <td>39</td>\n",
              "      <td>43</td>\n",
              "      <td>36</td>\n",
              "      <td>28</td>\n",
              "      <td>93</td>\n",
              "      <td>68</td>\n",
              "      <td>43</td>\n",
              "      <td>30.41</td>\n",
              "      <td>30.13</td>\n",
              "      <td>29.87</td>\n",
              "      <td>10</td>\n",
              "      <td>10</td>\n",
              "      <td>5</td>\n",
              "      <td>16</td>\n",
              "      <td>6</td>\n",
              "      <td>25</td>\n",
              "      <td>F</td>\n",
              "    </tr>\n",
              "    <tr>\n",
              "      <th>2</th>\n",
              "      <td>2013-12-23</td>\n",
              "      <td>58</td>\n",
              "      <td>45</td>\n",
              "      <td>32</td>\n",
              "      <td>31</td>\n",
              "      <td>27</td>\n",
              "      <td>23</td>\n",
              "      <td>76</td>\n",
              "      <td>52</td>\n",
              "      <td>27</td>\n",
              "      <td>30.56</td>\n",
              "      <td>30.49</td>\n",
              "      <td>30.41</td>\n",
              "      <td>10</td>\n",
              "      <td>10</td>\n",
              "      <td>10</td>\n",
              "      <td>8</td>\n",
              "      <td>3</td>\n",
              "      <td>12</td>\n",
              "      <td>F</td>\n",
              "    </tr>\n",
              "    <tr>\n",
              "      <th>3</th>\n",
              "      <td>2013-12-24</td>\n",
              "      <td>61</td>\n",
              "      <td>46</td>\n",
              "      <td>31</td>\n",
              "      <td>36</td>\n",
              "      <td>28</td>\n",
              "      <td>21</td>\n",
              "      <td>89</td>\n",
              "      <td>56</td>\n",
              "      <td>22</td>\n",
              "      <td>30.56</td>\n",
              "      <td>30.45</td>\n",
              "      <td>30.3</td>\n",
              "      <td>10</td>\n",
              "      <td>10</td>\n",
              "      <td>7</td>\n",
              "      <td>12</td>\n",
              "      <td>4</td>\n",
              "      <td>20</td>\n",
              "      <td>F</td>\n",
              "    </tr>\n",
              "    <tr>\n",
              "      <th>4</th>\n",
              "      <td>2013-12-25</td>\n",
              "      <td>58</td>\n",
              "      <td>50</td>\n",
              "      <td>41</td>\n",
              "      <td>44</td>\n",
              "      <td>40</td>\n",
              "      <td>36</td>\n",
              "      <td>86</td>\n",
              "      <td>71</td>\n",
              "      <td>56</td>\n",
              "      <td>30.41</td>\n",
              "      <td>30.33</td>\n",
              "      <td>30.27</td>\n",
              "      <td>10</td>\n",
              "      <td>10</td>\n",
              "      <td>7</td>\n",
              "      <td>10</td>\n",
              "      <td>2</td>\n",
              "      <td>16</td>\n",
              "      <td>T</td>\n",
              "    </tr>\n",
              "    <tr>\n",
              "      <th>...</th>\n",
              "      <td>...</td>\n",
              "      <td>...</td>\n",
              "      <td>...</td>\n",
              "      <td>...</td>\n",
              "      <td>...</td>\n",
              "      <td>...</td>\n",
              "      <td>...</td>\n",
              "      <td>...</td>\n",
              "      <td>...</td>\n",
              "      <td>...</td>\n",
              "      <td>...</td>\n",
              "      <td>...</td>\n",
              "      <td>...</td>\n",
              "      <td>...</td>\n",
              "      <td>...</td>\n",
              "      <td>...</td>\n",
              "      <td>...</td>\n",
              "      <td>...</td>\n",
              "      <td>...</td>\n",
              "      <td>...</td>\n",
              "    </tr>\n",
              "    <tr>\n",
              "      <th>1314</th>\n",
              "      <td>2017-07-27</td>\n",
              "      <td>103</td>\n",
              "      <td>89</td>\n",
              "      <td>75</td>\n",
              "      <td>71</td>\n",
              "      <td>67</td>\n",
              "      <td>61</td>\n",
              "      <td>82</td>\n",
              "      <td>54</td>\n",
              "      <td>25</td>\n",
              "      <td>30.04</td>\n",
              "      <td>29.97</td>\n",
              "      <td>29.88</td>\n",
              "      <td>10</td>\n",
              "      <td>10</td>\n",
              "      <td>10</td>\n",
              "      <td>12</td>\n",
              "      <td>5</td>\n",
              "      <td>21</td>\n",
              "      <td>F</td>\n",
              "    </tr>\n",
              "    <tr>\n",
              "      <th>1315</th>\n",
              "      <td>2017-07-28</td>\n",
              "      <td>105</td>\n",
              "      <td>91</td>\n",
              "      <td>76</td>\n",
              "      <td>71</td>\n",
              "      <td>64</td>\n",
              "      <td>55</td>\n",
              "      <td>87</td>\n",
              "      <td>54</td>\n",
              "      <td>20</td>\n",
              "      <td>29.97</td>\n",
              "      <td>29.9</td>\n",
              "      <td>29.81</td>\n",
              "      <td>10</td>\n",
              "      <td>10</td>\n",
              "      <td>10</td>\n",
              "      <td>14</td>\n",
              "      <td>5</td>\n",
              "      <td>20</td>\n",
              "      <td>F</td>\n",
              "    </tr>\n",
              "    <tr>\n",
              "      <th>1316</th>\n",
              "      <td>2017-07-29</td>\n",
              "      <td>107</td>\n",
              "      <td>92</td>\n",
              "      <td>77</td>\n",
              "      <td>72</td>\n",
              "      <td>64</td>\n",
              "      <td>55</td>\n",
              "      <td>82</td>\n",
              "      <td>51</td>\n",
              "      <td>19</td>\n",
              "      <td>29.91</td>\n",
              "      <td>29.86</td>\n",
              "      <td>29.79</td>\n",
              "      <td>10</td>\n",
              "      <td>10</td>\n",
              "      <td>10</td>\n",
              "      <td>12</td>\n",
              "      <td>4</td>\n",
              "      <td>17</td>\n",
              "      <td>F</td>\n",
              "    </tr>\n",
              "    <tr>\n",
              "      <th>1317</th>\n",
              "      <td>2017-07-30</td>\n",
              "      <td>106</td>\n",
              "      <td>93</td>\n",
              "      <td>79</td>\n",
              "      <td>70</td>\n",
              "      <td>68</td>\n",
              "      <td>63</td>\n",
              "      <td>69</td>\n",
              "      <td>48</td>\n",
              "      <td>27</td>\n",
              "      <td>29.96</td>\n",
              "      <td>29.91</td>\n",
              "      <td>29.87</td>\n",
              "      <td>10</td>\n",
              "      <td>10</td>\n",
              "      <td>10</td>\n",
              "      <td>13</td>\n",
              "      <td>4</td>\n",
              "      <td>20</td>\n",
              "      <td>F</td>\n",
              "    </tr>\n",
              "    <tr>\n",
              "      <th>1318</th>\n",
              "      <td>2017-07-31</td>\n",
              "      <td>99</td>\n",
              "      <td>88</td>\n",
              "      <td>77</td>\n",
              "      <td>66</td>\n",
              "      <td>61</td>\n",
              "      <td>54</td>\n",
              "      <td>64</td>\n",
              "      <td>43</td>\n",
              "      <td>22</td>\n",
              "      <td>30.04</td>\n",
              "      <td>29.97</td>\n",
              "      <td>29.91</td>\n",
              "      <td>10</td>\n",
              "      <td>10</td>\n",
              "      <td>10</td>\n",
              "      <td>12</td>\n",
              "      <td>4</td>\n",
              "      <td>20</td>\n",
              "      <td>F</td>\n",
              "    </tr>\n",
              "  </tbody>\n",
              "</table>\n",
              "<p>1319 rows × 20 columns</p>\n",
              "</div>"
            ],
            "text/plain": [
              "            Date  TempHighF  ...  WindGustMPH  PrecipitationSumInches\n",
              "0     2013-12-21         74  ...           31                       F\n",
              "1     2013-12-22         56  ...           25                       F\n",
              "2     2013-12-23         58  ...           12                       F\n",
              "3     2013-12-24         61  ...           20                       F\n",
              "4     2013-12-25         58  ...           16                       T\n",
              "...          ...        ...  ...          ...                     ...\n",
              "1314  2017-07-27        103  ...           21                       F\n",
              "1315  2017-07-28        105  ...           20                       F\n",
              "1316  2017-07-29        107  ...           17                       F\n",
              "1317  2017-07-30        106  ...           20                       F\n",
              "1318  2017-07-31         99  ...           20                       F\n",
              "\n",
              "[1319 rows x 20 columns]"
            ]
          },
          "metadata": {},
          "execution_count": 101
        }
      ]
    },
    {
      "cell_type": "code",
      "metadata": {
        "colab": {
          "base_uri": "https://localhost:8080/"
        },
        "id": "AbEN7Xc41BUc",
        "outputId": "4e2c8d67-9e43-4c57-eddb-336428349a8f"
      },
      "source": [
        "df.columns"
      ],
      "execution_count": 103,
      "outputs": [
        {
          "output_type": "execute_result",
          "data": {
            "text/plain": [
              "Index(['Date', 'TempHighF', 'TempAvgF', 'TempLowF', 'DewPointHighF',\n",
              "       'DewPointAvgF', 'DewPointLowF', 'HumidityHighPercent',\n",
              "       'HumidityAvgPercent', 'HumidityLowPercent',\n",
              "       'SeaLevelPressureHighInches', 'SeaLevelPressureAvgInches',\n",
              "       'SeaLevelPressureLowInches', 'VisibilityHighMiles',\n",
              "       'VisibilityAvgMiles', 'VisibilityLowMiles', 'WindHighMPH', 'WindAvgMPH',\n",
              "       'WindGustMPH', 'PrecipitationSumInches'],\n",
              "      dtype='object')"
            ]
          },
          "metadata": {},
          "execution_count": 103
        }
      ]
    },
    {
      "cell_type": "markdown",
      "metadata": {
        "id": "e7REQePqsXqY"
      },
      "source": [
        "# **Visualisasi dan Analisis Data**"
      ]
    },
    {
      "cell_type": "code",
      "metadata": {
        "colab": {
          "base_uri": "https://localhost:8080/"
        },
        "id": "wTm2j4xRdkI8",
        "outputId": "f8245ef2-f559-49bc-fddc-3a001b4e7d1e"
      },
      "source": [
        "df['PrecipitationSumInches'].value_counts()"
      ],
      "execution_count": 104,
      "outputs": [
        {
          "output_type": "execute_result",
          "data": {
            "text/plain": [
              "F    1195\n",
              "T     124\n",
              "Name: PrecipitationSumInches, dtype: int64"
            ]
          },
          "metadata": {},
          "execution_count": 104
        }
      ]
    },
    {
      "cell_type": "markdown",
      "metadata": {
        "id": "GiL9BMxxsvk3"
      },
      "source": [
        "**1195 bernilai False dan 124 bernilai T**"
      ]
    },
    {
      "cell_type": "code",
      "metadata": {
        "colab": {
          "base_uri": "https://localhost:8080/",
          "height": 316
        },
        "id": "RQLXVVx3dv1G",
        "outputId": "e358ba6b-4dcb-444f-d17f-3a2a2ae3f4ed"
      },
      "source": [
        "df.hist(column='TempAvgF', bins=50)"
      ],
      "execution_count": 105,
      "outputs": [
        {
          "output_type": "execute_result",
          "data": {
            "text/plain": [
              "array([[<matplotlib.axes._subplots.AxesSubplot object at 0x7f0798f77ad0>]],\n",
              "      dtype=object)"
            ]
          },
          "metadata": {},
          "execution_count": 105
        },
        {
          "output_type": "display_data",
          "data": {
            "image/png": "[encoded data removed]",
            "text/plain": [
              "<Figure size 432x288 with 1 Axes>"
            ]
          },
          "metadata": {
            "needs_background": "light"
          }
        }
      ]
    },
    {
      "cell_type": "markdown",
      "metadata": {
        "id": "B4UL1vkduGHW"
      },
      "source": [
        "# **Feature set**"
      ]
    },
    {
      "cell_type": "code",
      "metadata": {
        "colab": {
          "base_uri": "https://localhost:8080/"
        },
        "id": "4QI58MSXtlaP",
        "outputId": "2390a484-d913-4319-a217-6b82613fc512"
      },
      "source": [
        "df.columns"
      ],
      "execution_count": 106,
      "outputs": [
        {
          "output_type": "execute_result",
          "data": {
            "text/plain": [
              "Index(['Date', 'TempHighF', 'TempAvgF', 'TempLowF', 'DewPointHighF',\n",
              "       'DewPointAvgF', 'DewPointLowF', 'HumidityHighPercent',\n",
              "       'HumidityAvgPercent', 'HumidityLowPercent',\n",
              "       'SeaLevelPressureHighInches', 'SeaLevelPressureAvgInches',\n",
              "       'SeaLevelPressureLowInches', 'VisibilityHighMiles',\n",
              "       'VisibilityAvgMiles', 'VisibilityLowMiles', 'WindHighMPH', 'WindAvgMPH',\n",
              "       'WindGustMPH', 'PrecipitationSumInches'],\n",
              "      dtype='object')"
            ]
          },
          "metadata": {},
          "execution_count": 106
        }
      ]
    },
    {
      "cell_type": "code",
      "metadata": {
        "colab": {
          "base_uri": "https://localhost:8080/"
        },
        "id": "3-Y4lIITurzq",
        "outputId": "43999e19-631e-41d4-de49-e0f58002f016"
      },
      "source": [
        "X = df.drop('PrecipitationSumInches', 1).values\n",
        "X[0:5]"
      ],
      "execution_count": 110,
      "outputs": [
        {
          "output_type": "execute_result",
          "data": {
            "text/plain": [
              "array([['2013-12-21', 74, 60, 45, '67', '49', '43', '93', '75', '57',\n",
              "        '29.86', '29.68', '29.59', '10', '7', '2', '20', '4', '31'],\n",
              "       ['2013-12-22', 56, 48, 39, '43', '36', '28', '93', '68', '43',\n",
              "        '30.41', '30.13', '29.87', '10', '10', '5', '16', '6', '25'],\n",
              "       ['2013-12-23', 58, 45, 32, '31', '27', '23', '76', '52', '27',\n",
              "        '30.56', '30.49', '30.41', '10', '10', '10', '8', '3', '12'],\n",
              "       ['2013-12-24', 61, 46, 31, '36', '28', '21', '89', '56', '22',\n",
              "        '30.56', '30.45', '30.3', '10', '10', '7', '12', '4', '20'],\n",
              "       ['2013-12-25', 58, 50, 41, '44', '40', '36', '86', '71', '56',\n",
              "        '30.41', '30.33', '30.27', '10', '10', '7', '10', '2', '16']],\n",
              "      dtype=object)"
            ]
          },
          "metadata": {},
          "execution_count": 110
        }
      ]
    },
    {
      "cell_type": "markdown",
      "metadata": {
        "id": "ZTZ7bg39xbmp"
      },
      "source": [
        "# **Definisikan Labelnya juga (Y)**"
      ]
    },
    {
      "cell_type": "code",
      "metadata": {
        "colab": {
          "base_uri": "https://localhost:8080/"
        },
        "id": "hnP8-l9LwiQN",
        "outputId": "368e201d-82f0-4690-966a-1ea1e29cb620"
      },
      "source": [
        "Y = df['PrecipitationSumInches'].values\n",
        "Y[0:5]"
      ],
      "execution_count": 108,
      "outputs": [
        {
          "output_type": "execute_result",
          "data": {
            "text/plain": [
              "array(['F', 'F', 'F', 'F', 'T'], dtype=object)"
            ]
          },
          "metadata": {},
          "execution_count": 108
        }
      ]
    },
    {
      "cell_type": "markdown",
      "metadata": {
        "id": "TwCvnn8ixzUU"
      },
      "source": [
        "# **Normalisasi Data**"
      ]
    },
    {
      "cell_type": "code",
      "metadata": {
        "colab": {
          "base_uri": "https://localhost:8080/"
        },
        "id": "Y3QNOFx_zFQr",
        "outputId": "ffcb2fac-6e50-44a7-ca49-9ea843a9331a"
      },
      "source": [
        "'-' in X[:,1:]"
      ],
      "execution_count": 109,
      "outputs": [
        {
          "output_type": "execute_result",
          "data": {
            "text/plain": [
              "False"
            ]
          },
          "metadata": {},
          "execution_count": 109
        }
      ]
    },
    {
      "cell_type": "code",
      "metadata": {
        "colab": {
          "base_uri": "https://localhost:8080/"
        },
        "id": "v_ps58kKwlXT",
        "outputId": "6ca5f7da-edd7-4624-df3b-5c592c0aeb75"
      },
      "source": [
        "X = preprocessing.StandardScaler().fit(X[:,1:]).transform(X[:,1:].astype(float))\n",
        "X[0:5]"
      ],
      "execution_count": 111,
      "outputs": [
        {
          "output_type": "execute_result",
          "data": {
            "text/plain": [
              "array([[-0.46492853, -0.75801089, -1.05059398,  0.40741835, -0.47667524,\n",
              "        -0.46284364,  0.45571608,  0.66282914,  0.71041032, -0.12707796,\n",
              "        -0.19064139, -0.19065322,  0.10318467, -1.22835976, -1.28356082,\n",
              "         1.9621461 , -0.47810712,  1.62034133],\n",
              "       [-1.68436437, -1.61267654, -1.47356802, -1.27519551, -1.32183605,\n",
              "        -1.36879552,  0.45571608,  0.11237929, -0.11092934,  0.25336403,\n",
              "         0.12175218,  0.00430759,  0.10318467,  0.54429508, -0.47761824,\n",
              "         0.80598318,  0.47738272,  0.61718235],\n",
              "       [-1.5488715 , -1.82634295, -1.96703774, -2.11650245, -1.90694739,\n",
              "        -1.67077947, -1.01690557, -1.1457918 , -1.04960323,  0.35712094,\n",
              "         0.37166703,  0.38030344,  0.10318467,  0.54429508,  0.86561941,\n",
              "        -1.50634267, -0.95585205, -1.55632879],\n",
              "       [-1.34563219, -1.75512081, -2.03753341, -1.76595789, -1.84193502,\n",
              "        -1.79157306,  0.10921687, -0.83124903, -1.34293882,  0.35712094,\n",
              "         0.34389871,  0.3037117 ,  0.10318467,  0.54429508,  0.05967682,\n",
              "        -0.35017975, -0.47810712, -0.21878347],\n",
              "       [-1.5488715 , -1.47023226, -1.33257667, -1.2050866 , -1.06178657,\n",
              "        -0.88562118, -0.15065754,  0.34828637,  0.6517432 ,  0.25336403,\n",
              "         0.26059376,  0.28282304,  0.10318467,  0.54429508,  0.05967682,\n",
              "        -0.92826121, -1.43359697, -0.88755613]])"
            ]
          },
          "metadata": {},
          "execution_count": 111
        }
      ]
    },
    {
      "cell_type": "markdown",
      "metadata": {
        "id": "FEofgB0Z901h"
      },
      "source": [
        "# **Pembagian Data Training dan Testing**"
      ]
    },
    {
      "cell_type": "code",
      "metadata": {
        "colab": {
          "base_uri": "https://localhost:8080/"
        },
        "id": "kJAMfXcAyM5u",
        "outputId": "b1d67420-81f1-47b9-980c-1dee957cf7a1"
      },
      "source": [
        "from sklearn.model_selection import train_test_split\n",
        "X_train, X_test, Y_train, Y_test = train_test_split(X, Y, test_size=0.2, random_state=4)\n",
        "\n",
        "print(\"Train set : \", X_train.shape, Y_train.shape)\n",
        "print(\"Test set : \", X_test.shape, Y_test.shape)"
      ],
      "execution_count": 113,
      "outputs": [
        {
          "output_type": "stream",
          "name": "stdout",
          "text": [
            "Train set :  (1055, 18) (1055,)\n",
            "Test set :  (264, 18) (264,)\n"
          ]
        }
      ]
    },
    {
      "cell_type": "markdown",
      "metadata": {
        "id": "Vh0RiegU-r4B"
      },
      "source": [
        "# **Klasifikasi**\n",
        "\n",
        "# **K nearest neighbor (K-NN)**"
      ]
    },
    {
      "cell_type": "code",
      "metadata": {
        "colab": {
          "base_uri": "https://localhost:8080/"
        },
        "id": "ORCGxgnZ-d3E",
        "outputId": "f076b00d-8e8e-49cd-ec17-e8ab47998d3e"
      },
      "source": [
        "from sklearn.neighbors import KNeighborsClassifier\n",
        "k = 4\n",
        "knn = KNeighborsClassifier(n_neighbors = k).fit(X_train,Y_train)\n",
        "knn"
      ],
      "execution_count": 115,
      "outputs": [
        {
          "output_type": "execute_result",
          "data": {
            "text/plain": [
              "KNeighborsClassifier(algorithm='auto', leaf_size=30, metric='minkowski',\n",
              "                     metric_params=None, n_jobs=None, n_neighbors=4, p=2,\n",
              "                     weights='uniform')"
            ]
          },
          "metadata": {},
          "execution_count": 115
        }
      ]
    },
    {
      "cell_type": "markdown",
      "metadata": {
        "id": "87f4jTor_SM7"
      },
      "source": [
        "# **Predicting**"
      ]
    },
    {
      "cell_type": "code",
      "metadata": {
        "colab": {
          "base_uri": "https://localhost:8080/"
        },
        "id": "JIOXRaBA_LN4",
        "outputId": "fcf502dc-999b-47cf-cc9c-9b2f977e5981"
      },
      "source": [
        "y_pred = knn.predict(X_test)\n",
        "y_pred[0:5]"
      ],
      "execution_count": 116,
      "outputs": [
        {
          "output_type": "execute_result",
          "data": {
            "text/plain": [
              "array(['F', 'F', 'F', 'F', 'F'], dtype=object)"
            ]
          },
          "metadata": {},
          "execution_count": 116
        }
      ]
    },
    {
      "cell_type": "markdown",
      "metadata": {
        "id": "ZHDKQl-4_gHM"
      },
      "source": [
        "# **Perhitungan Akurasi**"
      ]
    },
    {
      "cell_type": "code",
      "metadata": {
        "colab": {
          "base_uri": "https://localhost:8080/"
        },
        "id": "rGlkimJD_bpc",
        "outputId": "18a90503-06b1-404b-a1bf-d123945a0bcb"
      },
      "source": [
        "from sklearn import metrics\n",
        "\n",
        "print(\"Train set Accuracy : \", metrics.accuracy_score(Y_train, knn.predict(X_train)))\n",
        "print(\"Test set Accuracy  : \", metrics.accuracy_score(Y_test, y_pred))"
      ],
      "execution_count": 119,
      "outputs": [
        {
          "output_type": "stream",
          "name": "stdout",
          "text": [
            "Train set Accuracy :  0.9213270142180094\n",
            "Test set Accuracy  :  0.875\n"
          ]
        }
      ]
    },
    {
      "cell_type": "markdown",
      "metadata": {
        "id": "YDpC1UGjAML1"
      },
      "source": [
        "# **MENCARI NILAI TERBAIK**"
      ]
    },
    {
      "cell_type": "code",
      "metadata": {
        "colab": {
          "base_uri": "https://localhost:8080/"
        },
        "id": "9GngM0ZeACAE",
        "outputId": "f57d5500-12f5-459e-ad82-9725fe779b67"
      },
      "source": [
        "Ks = 10\n",
        "mean_acc = np.zeros((Ks-1))\n",
        "std_acc = np.zeros((Ks-1))\n",
        "ConfustionMx = [];\n",
        "for n in range(1,Ks):\n",
        "    \n",
        "    #Train Model and Predict  \n",
        "    neigh = KNeighborsClassifier(n_neighbors = n).fit(X_train,Y_train)\n",
        "    yhat=neigh.predict(X_test)\n",
        "    mean_acc[n-1] = metrics.accuracy_score(Y_test, y_pred)\n",
        "\n",
        "    \n",
        "    std_acc[n-1]=np.std(y_pred==Y_test)/np.sqrt(y_pred.shape[0])\n",
        "\n",
        "mean_acc"
      ],
      "execution_count": 120,
      "outputs": [
        {
          "output_type": "execute_result",
          "data": {
            "text/plain": [
              "array([0.875, 0.875, 0.875, 0.875, 0.875, 0.875, 0.875, 0.875, 0.875])"
            ]
          },
          "metadata": {},
          "execution_count": 120
        }
      ]
    },
    {
      "cell_type": "markdown",
      "metadata": {
        "id": "PzcYX75MAd3B"
      },
      "source": [
        "# **Lalu kita juga bisa menampilkan grafik / plot-nya**"
      ]
    },
    {
      "cell_type": "code",
      "metadata": {
        "colab": {
          "base_uri": "https://localhost:8080/",
          "height": 297
        },
        "id": "t_gFVJHNAZwS",
        "outputId": "87ad60af-2ae5-41c8-d67f-42830d643bdd"
      },
      "source": [
        "plt.plot(range(1,Ks),mean_acc,'g')\n",
        "plt.fill_between(range(1,Ks),mean_acc - 1 * std_acc,mean_acc + 1 * std_acc, alpha=0.10)\n",
        "plt.legend(('Accuracy ', '+/- 3xstd'))\n",
        "plt.ylabel('Accuracy ')\n",
        "plt.xlabel('Number of Nabors (K)')\n",
        "plt.tight_layout()\n",
        "plt.show()"
      ],
      "execution_count": 121,
      "outputs": [
        {
          "output_type": "display_data",
          "data": {
            "image/png": "[encoded data removed]",
            "text/plain": [
              "<Figure size 432x288 with 1 Axes>"
            ]
          },
          "metadata": {
            "needs_background": "light"
          }
        }
      ]
    },
    {
      "cell_type": "code",
      "metadata": {
        "colab": {
          "base_uri": "https://localhost:8080/"
        },
        "id": "45kRSzwWAisr",
        "outputId": "12079c81-9040-4e14-ac51-cc8a61ac5b0a"
      },
      "source": [
        "print( \"The best accuracy was with\", mean_acc.max(), \"with k=\", mean_acc.argmax()+1)\n"
      ],
      "execution_count": 122,
      "outputs": [
        {
          "output_type": "stream",
          "name": "stdout",
          "text": [
            "The best accuracy was with 0.875 with k= 1\n"
          ]
        }
      ]
    },
    {
      "cell_type": "code",
      "metadata": {
        "id": "8rixi1mXAn2Z"
      },
      "source": [
        ""
      ],
      "execution_count": null,
      "outputs": []
    }
  ]
}